{
 "cells": [
  {
   "cell_type": "markdown",
   "id": "1952d75f",
   "metadata": {},
   "source": [
    "# Preprocess the SmolLM Dataset\n"
   ]
  },
  {
   "cell_type": "markdown",
   "id": "581df3eb",
   "metadata": {},
   "source": [
    "## Load the Dataset\n"
   ]
  },
  {
   "cell_type": "code",
   "execution_count": 1,
   "id": "0ce15e81-6f0d-4942-9ef9-e74a36361a2a",
   "metadata": {
    "scrolled": true
   },
   "outputs": [],
   "source": [
    "import os\n",
    "\n",
    "\n",
    "local_dir =  \"train-gpt2-data\" \n",
    "DATA_CACHE_DIR = os.path.join(\"/lambda/nfs\", local_dir)\n",
    "os.makedirs(DATA_CACHE_DIR, exist_ok=True)\n",
    "\n"
   ]
  },
  {
   "cell_type": "code",
   "execution_count": null,
   "id": "26ffc11d",
   "metadata": {},
   "outputs": [],
   "source": [
    "import boto3\n",
    "import gzip\n",
    "from datasets import load_dataset\n",
    "from botocore.exceptions import ClientError\n",
    "\n",
    "session = boto3.Session(\n",
    "    aws_access_key_id=\"\",\n",
    "    aws_secret_access_key=\"\")\n",
    "s3 = session.client(\"s3\")\n",
    "num_proc = 80\n",
    "bucket_name = \"softwareheritage\"\n",
    "\n",
    "def download_contents(blob_id):\n",
    "    key = f\"content/{blob_id}\"\n",
    "    try:\n",
    "        obj = s3.get_object(Bucket=bucket_name, Key=key)\n",
    "        with gzip.GzipFile(fileobj=obj['Body']) as fin:\n",
    "            content = fin.read().decode(\"utf-8\", errors=\"ignore\")\n",
    "        return {\"text\": content, \"download_success\": True}\n",
    "    except ClientError as e:\n",
    "        if e.response['Error']['Code'] == 'NoSuchKey':\n",
    "            print(f\"File not found: {key}\")\n",
    "            return {\"text\": \"\", \"download_success\": False}\n",
    "        else:\n",
    "            raise\n",
    "\n",
    "ds = load_dataset(\"HuggingFaceTB/smollm-corpus\", \"python-edu\", split=\"train\", num_proc=num_proc, cache_dir=DATA_CACHE_DIR)\n",
    "ds = ds.map(download_contents, input_columns=\"blob_id\", num_proc=num_proc, batched=False)\n",
    "\n",
    "# Filter out failed downloads\n",
    "ds = ds.filter(lambda x: x['download_success'])\n",
    "\n",
    "# Optionally, print the first example to verify the data\n",
    "print(ds[0])\n",
    "ds.save_to_disk('/lambda/nfs/train-gpt2-data/smollm-corpus/python-edu')"
   ]
  },
  {
   "cell_type": "code",
   "execution_count": 3,
   "id": "066642dc",
   "metadata": {},
   "outputs": [
    {
     "data": {
      "application/vnd.jupyter.widget-view+json": {
       "model_id": "1c4bedf7bef140bdae7e1b9a39c1a763",
       "version_major": 2,
       "version_minor": 0
      },
      "text/plain": [
       "Resolving data files:   0%|          | 0/104 [00:00<?, ?it/s]"
      ]
     },
     "metadata": {},
     "output_type": "display_data"
    },
    {
     "data": {
      "application/vnd.jupyter.widget-view+json": {
       "model_id": "3a71cba838e94dee89bfb93ce7c1e495",
       "version_major": 2,
       "version_minor": 0
      },
      "text/plain": [
       "Resolving data files:   0%|          | 0/234 [00:00<?, ?it/s]"
      ]
     },
     "metadata": {},
     "output_type": "display_data"
    },
    {
     "data": {
      "application/vnd.jupyter.widget-view+json": {
       "model_id": "53e1ae718ef74bcba025c9c697c19858",
       "version_major": 2,
       "version_minor": 0
      },
      "text/plain": [
       "Loading dataset shards:   0%|          | 0/1906 [00:00<?, ?it/s]"
      ]
     },
     "metadata": {},
     "output_type": "display_data"
    },
    {
     "data": {
      "application/vnd.jupyter.widget-view+json": {
       "model_id": "74c6ac7e7f6640f18959f3e5203b91d1",
       "version_major": 2,
       "version_minor": 0
      },
      "text/plain": [
       "Loading dataset from disk:   0%|          | 0/27 [00:00<?, ?it/s]"
      ]
     },
     "metadata": {},
     "output_type": "display_data"
    },
    {
     "data": {
      "application/vnd.jupyter.widget-view+json": {
       "model_id": "968ca47cfaf54a7d91ed11f495d5bdd6",
       "version_major": 2,
       "version_minor": 0
      },
      "text/plain": [
       "Resolving data files:   0%|          | 0/104 [00:00<?, ?it/s]"
      ]
     },
     "metadata": {},
     "output_type": "display_data"
    },
    {
     "data": {
      "application/vnd.jupyter.widget-view+json": {
       "model_id": "22e1e9e186d3448aafe000cfcd718023",
       "version_major": 2,
       "version_minor": 0
      },
      "text/plain": [
       "Resolving data files:   0%|          | 0/104 [00:00<?, ?it/s]"
      ]
     },
     "metadata": {},
     "output_type": "display_data"
    },
    {
     "data": {
      "application/vnd.jupyter.widget-view+json": {
       "model_id": "ef5fe9cbe34b46d6b8e470aecf69d899",
       "version_major": 2,
       "version_minor": 0
      },
      "text/plain": [
       "Loading dataset shards:   0%|          | 0/423 [00:00<?, ?it/s]"
      ]
     },
     "metadata": {},
     "output_type": "display_data"
    }
   ],
   "source": [
    "from datasets import load_from_disk\n",
    "from datasets import load_dataset\n",
    "\n",
    "dataset_objs = []\n",
    "\n",
    "ds = load_dataset(\"HuggingFaceTB/smollm-corpus\", \"fineweb-edu-dedup\", split=\"train\", cache_dir=DATA_CACHE_DIR)\n",
    "dataset_objs.append(ds)\n",
    "\n",
    "ds = load_from_disk('/lambda/nfs/train-gpt2-data/smollm-corpus/python-edu')\n",
    "dataset_objs.append(ds)\n",
    "\n",
    "ds = load_dataset(\"HuggingFaceTB/smollm-corpus\", \"cosmopedia-v2\", split=\"train\", cache_dir=DATA_CACHE_DIR)\n",
    "dataset_objs.append(ds)"
   ]
  },
  {
   "cell_type": "code",
   "execution_count": null,
   "id": "bebac715",
   "metadata": {},
   "outputs": [],
   "source": [
    "from datasets import interleave_datasets\n",
    "\n",
    "# cosmopedia-v2, python-edu, fineweb-edu-dedup\n",
    "#probabilities=[0.111, 0.016 , 0.873]\n",
    "\n",
    "\n",
    "#ds = interleave_datasets(\n",
    "#    dataset_objs, probabilities=probabilities, seed=1337)\n"
   ]
  },
  {
   "cell_type": "markdown",
   "id": "6a7822d0",
   "metadata": {},
   "source": [
    "## Setup\n"
   ]
  },
  {
   "cell_type": "code",
   "execution_count": 4,
   "id": "fad3ed75-c2ed-4544-b2e9-0ec28799af4e",
   "metadata": {},
   "outputs": [
    {
     "name": "stdout",
     "output_type": "stream",
     "text": [
      "\n",
      "sytem statistics:\n",
      "-----------------\n",
      "cpu count: 120\n",
      "\n",
      "dataset statistics\n",
      "------------------\n",
      "docs_per_dataset: 190,168,005 | 7,678,447 | 39,134,000\n",
      "documents: 236,980,452\n",
      "docs_per_cpu: 1,974,838\n"
     ]
    }
   ],
   "source": [
    "import time\n",
    "import math\n",
    "from functools import partial\n",
    "import concurrent.futures as cf\n",
    "\n",
    "import numpy as np\n",
    "from transformers import AutoTokenizer\n",
    "\n",
    "#import tiktoken\n",
    "#enc = tiktoken.get_encoding(\"gpt2\")\n",
    "tokenizer = AutoTokenizer.from_pretrained(\"HuggingFaceTB/SmolLM-360M\")\n",
    "\n",
    "num_cpus = os.cpu_count()\n",
    "print(f\"\"\"\n",
    "sytem statistics:\n",
    "-----------------\n",
    "cpu count: {num_cpus}\"\"\")\n",
    "docs = [len(dataset) for dataset in dataset_objs]\n",
    "total_docs = sum(docs)\n",
    "docs_per_cpu = int(math.ceil(total_docs/num_cpus))\n",
    "print(f\"\"\"\n",
    "dataset statistics\n",
    "------------------\n",
    "docs_per_dataset: {\" | \".join(f'{x:,}' for x in docs)}\n",
    "documents: {total_docs:,}\n",
    "docs_per_cpu: {docs_per_cpu:,}\"\"\")\n"
   ]
  },
  {
   "cell_type": "markdown",
   "id": "841c20d4",
   "metadata": {},
   "source": [
    "## Token Statistics"
   ]
  },
  {
   "cell_type": "code",
   "execution_count": null,
   "id": "caa2a0c4-85d4-445a-856b-3abce9a13653",
   "metadata": {},
   "outputs": [],
   "source": [
    "def count_tokens(dataset, _tokenizer, idx):\n",
    "    tokens = _tokenizer.encode(dataset[idx]['text'])\n",
    "    return len(tokens)\n",
    "\n",
    "\n",
    "with cf.ProcessPoolExecutor(max_workers = num_cpus) as ex:\n",
    "    start = time.time()\n",
    "    documents = 0\n",
    "    tokens = 0\n",
    "\n",
    "    for dataset in dataset_objs: \n",
    "        f = partial(count_tokens, dataset, tokenizer)\n",
    "        for result in ex.map(f, range(len(dataset)), chunksize=docs_per_cpu//10):\n",
    "            documents += 1\n",
    "            tokens += result\n",
    "            elapsed = time.time() - start\n",
    "            documents % 1e3 == 0 and (\n",
    "                print(f\"processed {documents:,} | docs/s {documents/elapsed:0.4f}\", end=\"\\r\")\n",
    "            )\n",
    "            \n",
    "    print(f\"processed documents in {time.time()-start:0.2f} seconds\")\n",
    "    print(f\"total tokens: {tokens:,}\")\n",
    "    print(f\"total documents: {documents:,}\")   \n",
    "    assert(documents == total_docs)"
   ]
  },
  {
   "cell_type": "markdown",
   "id": "af0ff95b",
   "metadata": {},
   "source": [
    "processed documents in 22565.92 seconds\n",
    "\n",
    "total tokens: 227,557,089,774\n",
    "\n",
    "total documents: 236,980,452"
   ]
  },
  {
   "cell_type": "markdown",
   "id": "ebfd2e88",
   "metadata": {},
   "source": [
    "## Actual Preprocessing Operation"
   ]
  },
  {
   "cell_type": "code",
   "execution_count": 5,
   "id": "6f9802fa-cb02-4f92-a39c-0a0d0cadd11f",
   "metadata": {},
   "outputs": [
    {
     "name": "stdout",
     "output_type": "stream",
     "text": [
      "finished in 4378.44 secondsnts | generated 28,167,242,374 tokens | wrote 282 shards\n",
      "total shards written: 282\n",
      "total tokens: 28,167,242,374\n"
     ]
    }
   ],
   "source": [
    "EOT_TOKEN = 0\n",
    "SHARD_SIZE = int(1e8)\n",
    "output_dir = \"processed\"\n",
    "os.makedirs(os.path.join(DATA_CACHE_DIR, output_dir), exist_ok=True)\n",
    "\n",
    "def write_shard(d_idx, shard, shard_idx):\n",
    "    if shard_idx % 100 == 0:\n",
    "        split = \"valid\"\n",
    "    else:\n",
    "        split = \"train\"\n",
    "    f_path = os.path.join(DATA_CACHE_DIR, output_dir, f\"smol_lm_corpus_{d_idx}_{split}_{shard_idx}\")\n",
    "    np.savez(f_path, shard)\n",
    "\n",
    "\n",
    "def tokenize(dataset, encoder, idx):\n",
    "    tokens = [EOT_TOKEN] + encoder.encode(dataset[idx]['text'])\n",
    "    return tokens\n",
    "\n",
    "\n",
    "#for d_idx, dataset in enumerate(dataset_objs[2:]):\n",
    "d_idx = 2\n",
    "dataset = dataset_objs[2]\n",
    "f = partial(tokenize, dataset, tokenizer)\n",
    "\n",
    "with cf.ProcessPoolExecutor(max_workers = num_cpus) as ex:\n",
    "    start = time.time()\n",
    "    \n",
    "    docs_processed = 0\n",
    "    shards_written = 0\n",
    "    tokens_generated = 0\n",
    "    shard_token_count = 0\n",
    "\n",
    "    shard = np.empty((SHARD_SIZE,), dtype=np.uint16)\n",
    "    \n",
    "    for tokens in ex.map(f, range(len(dataset)), chunksize=docs_per_cpu//200):\n",
    "        docs_processed += 1\n",
    "        tokens_generated += len(tokens)\n",
    "\n",
    "        if docs_processed % 1e4 == 0:\n",
    "            print(f\"processed {docs_processed:,} documents | generated {tokens_generated:,} tokens | wrote {shards_written} shards\", end=\"\\r\")\n",
    "\n",
    "        if shard_token_count + len(tokens) < SHARD_SIZE:\n",
    "            shard[shard_token_count:shard_token_count + len(tokens)] = tokens \n",
    "            shard_token_count += len(tokens)\n",
    "        else:\n",
    "            remainder = SHARD_SIZE - shard_token_count\n",
    "            shard[shard_token_count:shard_token_count + remainder] = tokens[:remainder]\n",
    "            write_shard(d_idx, shard, shards_written)\n",
    "            shards_written += 1\n",
    "            \n",
    "            shard[:len(tokens) - remainder] = tokens[remainder:]\n",
    "            shard_token_count = len(tokens) - remainder\n",
    "    \n",
    "    write_shard(d_idx, shard, shards_written) #write the final shard\n",
    "    shards_written += 1\n",
    "    print(f\"processed {docs_processed:,} documents | generated {tokens_generated:,} tokens | wrote {shards_written} shards\", end=\"\\r\")        \n",
    "    print(f\"finished in {time.time()-start:.2f} seconds\")\n",
    "    assert(docs_processed == len(dataset))\n",
    "    print(f\"total shards written: {shards_written:,}\")\n",
    "    print(f\"total tokens: {tokens_generated:,}\")"
   ]
  }
 ],
 "metadata": {
  "kernelspec": {
   "display_name": "Python 3 (ipykernel)",
   "language": "python",
   "name": "python3"
  },
  "language_info": {
   "codemirror_mode": {
    "name": "ipython",
    "version": 3
   },
   "file_extension": ".py",
   "mimetype": "text/x-python",
   "name": "python",
   "nbconvert_exporter": "python",
   "pygments_lexer": "ipython3",
   "version": "3.12.8"
  }
 },
 "nbformat": 4,
 "nbformat_minor": 5
}
