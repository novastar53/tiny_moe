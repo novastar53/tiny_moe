{
 "cells": [
  {
   "cell_type": "code",
   "execution_count": 5,
   "id": "2af79b39",
   "metadata": {},
   "outputs": [
    {
     "name": "stdout",
     "output_type": "stream",
     "text": [
      "(100000000,)\n"
     ]
    }
   ],
   "source": [
    "from pathlib import Path\n",
    "import numpy as np\n",
    "\n",
    "\n",
    "dataset_folder = Path(\"/lambda/nfs/train-gpt2-data/processed\")\n",
    "fname = \"smol_lm_corpus_0_train_1442.npz\"\n",
    "\n",
    "data = np.load(dataset_folder / fname)['arr_0']\n",
    "print(data.shape)\n"
   ]
  },
  {
   "cell_type": "code",
   "execution_count": 6,
   "id": "802b1a79",
   "metadata": {},
   "outputs": [
    {
     "name": "stdout",
     "output_type": "stream",
     "text": [
      " and to continue the war. Edit. The French army fought against the invading German army. Dec 2010 1,946 Newfoundland Jul 12, 2011 #11 Ok . He used interior lines to move troops from his right wing to the critical left wing and sacked generals. Through its online programs, Norwich delivers relevant and applicable curricula that allow its students to make a positive impact on their places of work and their communities. The war became\n"
     ]
    }
   ],
   "source": [
    "from transformers import AutoTokenizer\n",
    "tokenizer = AutoTokenizer.from_pretrained(\"HuggingFaceTB/SmolLM-360M\")\n",
    "\n",
    "sample = data[:100]\n",
    "text = tokenizer.decode(sample)\n",
    "print(text)"
   ]
  }
 ],
 "metadata": {
  "kernelspec": {
   "display_name": ".venv",
   "language": "python",
   "name": "python3"
  },
  "language_info": {
   "codemirror_mode": {
    "name": "ipython",
    "version": 3
   },
   "file_extension": ".py",
   "mimetype": "text/x-python",
   "name": "python",
   "nbconvert_exporter": "python",
   "pygments_lexer": "ipython3",
   "version": "3.12.8"
  }
 },
 "nbformat": 4,
 "nbformat_minor": 5
}
